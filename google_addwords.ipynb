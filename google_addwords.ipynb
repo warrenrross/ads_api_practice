{
 "cells": [
  {
   "cell_type": "code",
   "execution_count": 1,
   "metadata": {},
   "outputs": [
    {
     "name": "stdout",
     "output_type": "stream",
     "text": [
      "Requirement already satisfied: google-ads in /Users/warrenross/.local/share/virtualenvs/Coding-b1rkc1H9/lib/python3.8/site-packages (4.1.1)\n",
      "Requirement already satisfied: google-auth-oauthlib<1.0.0,>=0.3.0 in /Users/warrenross/.local/share/virtualenvs/Coding-b1rkc1H9/lib/python3.8/site-packages (from google-ads) (0.4.1)\n",
      "Requirement already satisfied: google-api-core<2.0.0,>=1.14.0 in /Users/warrenross/.local/share/virtualenvs/Coding-b1rkc1H9/lib/python3.8/site-packages (from google-ads) (1.16.0)\n",
      "Requirement already satisfied: googleapis-common-protos<2.0.0,>=1.5.8 in /Users/warrenross/.local/share/virtualenvs/Coding-b1rkc1H9/lib/python3.8/site-packages (from google-ads) (1.51.0)\n",
      "Requirement already satisfied: PyYAML<6.0,>=5.1 in /Users/warrenross/.local/share/virtualenvs/Coding-b1rkc1H9/lib/python3.8/site-packages (from google-ads) (5.3)\n",
      "Requirement already satisfied: grpcio<2.0.0,>=1.25.0 in /Users/warrenross/.local/share/virtualenvs/Coding-b1rkc1H9/lib/python3.8/site-packages (from google-ads) (1.26.0)\n",
      "Requirement already satisfied: google-auth in /Users/warrenross/.local/share/virtualenvs/Coding-b1rkc1H9/lib/python3.8/site-packages (from google-auth-oauthlib<1.0.0,>=0.3.0->google-ads) (1.11.0)\n",
      "Requirement already satisfied: requests-oauthlib>=0.7.0 in /Users/warrenross/.local/share/virtualenvs/Coding-b1rkc1H9/lib/python3.8/site-packages (from google-auth-oauthlib<1.0.0,>=0.3.0->google-ads) (1.3.0)\n",
      "Requirement already satisfied: requests<3.0.0dev,>=2.18.0 in /Users/warrenross/.local/share/virtualenvs/Coding-b1rkc1H9/lib/python3.8/site-packages (from google-api-core<2.0.0,>=1.14.0->google-ads) (2.22.0)\n",
      "Requirement already satisfied: pytz in /Users/warrenross/.local/share/virtualenvs/Coding-b1rkc1H9/lib/python3.8/site-packages (from google-api-core<2.0.0,>=1.14.0->google-ads) (2019.3)\n",
      "Requirement already satisfied: setuptools>=34.0.0 in /Users/warrenross/.local/share/virtualenvs/Coding-b1rkc1H9/lib/python3.8/site-packages (from google-api-core<2.0.0,>=1.14.0->google-ads) (42.0.2)\n",
      "Requirement already satisfied: six>=1.10.0 in /Users/warrenross/.local/share/virtualenvs/Coding-b1rkc1H9/lib/python3.8/site-packages (from google-api-core<2.0.0,>=1.14.0->google-ads) (1.13.0)\n",
      "Requirement already satisfied: protobuf>=3.4.0 in /Users/warrenross/.local/share/virtualenvs/Coding-b1rkc1H9/lib/python3.8/site-packages (from google-api-core<2.0.0,>=1.14.0->google-ads) (3.11.2)\n",
      "Requirement already satisfied: pyasn1-modules>=0.2.1 in /Users/warrenross/.local/share/virtualenvs/Coding-b1rkc1H9/lib/python3.8/site-packages (from google-auth->google-auth-oauthlib<1.0.0,>=0.3.0->google-ads) (0.2.8)\n",
      "Requirement already satisfied: cachetools<5.0,>=2.0.0 in /Users/warrenross/.local/share/virtualenvs/Coding-b1rkc1H9/lib/python3.8/site-packages (from google-auth->google-auth-oauthlib<1.0.0,>=0.3.0->google-ads) (4.0.0)\n",
      "Requirement already satisfied: rsa<4.1,>=3.1.4 in /Users/warrenross/.local/share/virtualenvs/Coding-b1rkc1H9/lib/python3.8/site-packages (from google-auth->google-auth-oauthlib<1.0.0,>=0.3.0->google-ads) (4.0)\n",
      "Requirement already satisfied: oauthlib>=3.0.0 in /Users/warrenross/.local/share/virtualenvs/Coding-b1rkc1H9/lib/python3.8/site-packages (from requests-oauthlib>=0.7.0->google-auth-oauthlib<1.0.0,>=0.3.0->google-ads) (3.1.0)\n",
      "Requirement already satisfied: idna<2.9,>=2.5 in /Users/warrenross/.local/share/virtualenvs/Coding-b1rkc1H9/lib/python3.8/site-packages (from requests<3.0.0dev,>=2.18.0->google-api-core<2.0.0,>=1.14.0->google-ads) (2.8)\n",
      "Requirement already satisfied: urllib3!=1.25.0,!=1.25.1,<1.26,>=1.21.1 in /Users/warrenross/.local/share/virtualenvs/Coding-b1rkc1H9/lib/python3.8/site-packages (from requests<3.0.0dev,>=2.18.0->google-api-core<2.0.0,>=1.14.0->google-ads) (1.25.7)\n",
      "Requirement already satisfied: chardet<3.1.0,>=3.0.2 in /Users/warrenross/.local/share/virtualenvs/Coding-b1rkc1H9/lib/python3.8/site-packages (from requests<3.0.0dev,>=2.18.0->google-api-core<2.0.0,>=1.14.0->google-ads) (3.0.4)\n",
      "Requirement already satisfied: certifi>=2017.4.17 in /Users/warrenross/.local/share/virtualenvs/Coding-b1rkc1H9/lib/python3.8/site-packages (from requests<3.0.0dev,>=2.18.0->google-api-core<2.0.0,>=1.14.0->google-ads) (2019.11.28)\n",
      "Requirement already satisfied: pyasn1<0.5.0,>=0.4.6 in /Users/warrenross/.local/share/virtualenvs/Coding-b1rkc1H9/lib/python3.8/site-packages (from pyasn1-modules>=0.2.1->google-auth->google-auth-oauthlib<1.0.0,>=0.3.0->google-ads) (0.4.8)\n"
     ]
    }
   ],
   "source": [
    "# Install a pip package in the current Jupyter kernel\n",
    "import sys\n",
    "!{sys.executable} -m pip install google-ads"
   ]
  },
  {
   "cell_type": "code",
   "execution_count": null,
   "metadata": {},
   "outputs": [],
   "source": []
  }
 ],
 "metadata": {
  "kernelspec": {
   "display_name": "Python 3",
   "language": "python",
   "name": "python3"
  },
  "language_info": {
   "codemirror_mode": {
    "name": "ipython",
    "version": 3
   },
   "file_extension": ".py",
   "mimetype": "text/x-python",
   "name": "python",
   "nbconvert_exporter": "python",
   "pygments_lexer": "ipython3",
   "version": "3.8.0"
  }
 },
 "nbformat": 4,
 "nbformat_minor": 2
}
